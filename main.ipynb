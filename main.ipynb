{
 "cells": [
  {
   "cell_type": "code",
   "execution_count": 38,
   "metadata": {},
   "outputs": [],
   "source": [
    "from pprint import pprint\n",
    "from typing import cast\n",
    "from pathlib import Path\n",
    "from one.api import ONE, OneAlyx\n",
    "from data_transform import SmbClient"
   ]
  },
  {
   "cell_type": "markdown",
   "metadata": {},
   "source": [
    "# Login to ONE"
   ]
  },
  {
   "cell_type": "code",
   "execution_count": 39,
   "metadata": {},
   "outputs": [],
   "source": [
    "USER_NAME = input(\"Enter your username: \")\n",
    "PASSWORD = input(\"Enter your password: \")\n",
    "\n",
    "one = ONE(username=USER_NAME, password=PASSWORD) # Login to Alyx"
   ]
  },
  {
   "cell_type": "markdown",
   "metadata": {},
   "source": [
    "# Login to Data Server"
   ]
  },
  {
   "cell_type": "code",
   "execution_count": 40,
   "metadata": {},
   "outputs": [],
   "source": [
    "DATA_USER_NAME = input(\"Enter your data server username: \")\n",
    "DATA_PASSWORD = input(\"Enter your data server password: \")\n",
    "\n",
    "smbclient = SmbClient(r\"172.16.102.77\", \"cog_platform\", DATA_USER_NAME, DATA_PASSWORD) # Login to Data Server"
   ]
  },
  {
   "cell_type": "code",
   "execution_count": 41,
   "metadata": {},
   "outputs": [
    {
     "name": "stdout",
     "output_type": "stream",
     "text": [
      "WindowsPath('d:/projects/engineering/alyx_data_tianming/data')\n"
     ]
    }
   ],
   "source": [
    "ROOT_EXPERIMENTAL_FOLDER = Path.cwd() / \"data\" # Create a directory to store data\n",
    "pprint(ROOT_EXPERIMENTAL_FOLDER)"
   ]
  },
  {
   "cell_type": "markdown",
   "metadata": {},
   "source": [
    "# Index experiments in alyx database"
   ]
  },
  {
   "cell_type": "code",
   "execution_count": 42,
   "metadata": {},
   "outputs": [
    {
     "name": "stdout",
     "output_type": "stream",
     "text": [
      "['27c8af19-6ec6-4006-97c4-0c7592e67f81', '36560ed6-f5f2-4920-800d-baace226c692']\n"
     ]
    }
   ],
   "source": [
    "one = cast(OneAlyx, one)\n",
    "\n",
    "# Get all sessions\n",
    "sessions =  one.alyx.rest('sessions', 'list', no_cache=True)\n",
    "\n",
    "# Filter for sessions with subject 'omegaL'\n",
    "eids = [session['id'] for session in sessions if session['subject'] == 'omegaL']\n",
    "pprint(eids)"
   ]
  },
  {
   "cell_type": "markdown",
   "metadata": {},
   "source": [
    "# Download data"
   ]
  },
  {
   "cell_type": "code",
   "execution_count": 43,
   "metadata": {},
   "outputs": [
    {
     "name": "stderr",
     "output_type": "stream",
     "text": [
      "100%|██████████| 388M/388M [00:05<00:00, 73.0MB/s] \n",
      "100%|██████████| 431M/431M [00:05<00:00, 78.1MB/s] \n"
     ]
    }
   ],
   "source": [
    "data_directory_paths = [\n",
    "    ROOT_EXPERIMENTAL_FOLDER.joinpath(*one.eid2path(eid).parts[-5:]) for eid in eids\n",
    "]\n",
    "\n",
    "for data_directory_path in data_directory_paths:\n",
    "    smbclient.download(data_directory_path / \"alf\", Path.cwd() / \"data\")\n"
   ]
  },
  {
   "cell_type": "code",
   "execution_count": 44,
   "metadata": {},
   "outputs": [
    {
     "name": "stdout",
     "output_type": "stream",
     "text": [
      "[WindowsPath('d:/projects/engineering/alyx_data_tianming/data/YangLab/Subjects/omegaL/2021-08-06/001/alf/q_inf_merge.weight_dynamic_res.pkl'),\n",
      " WindowsPath('d:/projects/engineering/alyx_data_tianming/data/YangLab/Subjects/omegaL/2021-08-01/001/alf/q_inf_merge.weight_dynamic_res.pkl')]\n"
     ]
    }
   ],
   "source": [
    "# data_paths is all the paths to the data files we need to load\n",
    "data_paths = [\n",
    "    ROOT_EXPERIMENTAL_FOLDER.joinpath(*one.eid2path(eid).parts[-5:]).joinpath(file)  # type: ignore\n",
    "    for eid in eids\n",
    "    for file in one.list_datasets(eid)\n",
    "]\n",
    "pprint(data_paths)\n"
   ]
  },
  {
   "cell_type": "markdown",
   "metadata": {},
   "source": [
    "# Load Data\n",
    "load data to memory"
   ]
  },
  {
   "cell_type": "code",
   "execution_count": 45,
   "metadata": {},
   "outputs": [],
   "source": [
    "import pickle\n",
    "import pandas as pd\n",
    "\n",
    "\n",
    "def load_data(data_path):\n",
    "    try:\n",
    "        with open(data_path, \"rb\") as f:\n",
    "            return pickle.load(f)\n",
    "    except Exception as e:\n",
    "        print(f\"Error loading {data_path}: {e}\")\n",
    "        return None\n",
    "\n",
    "\n",
    "# all data\n",
    "datas: list[list] = [\n",
    "    data for data in (load_data(path) for path in data_paths) if data is not None\n",
    "]"
   ]
  },
  {
   "cell_type": "markdown",
   "metadata": {},
   "source": [
    "# Example of how to use the data"
   ]
  },
  {
   "cell_type": "code",
   "execution_count": 46,
   "metadata": {},
   "outputs": [
    {
     "data": {
      "text/html": [
       "<div>\n",
       "<style scoped>\n",
       "    .dataframe tbody tr th:only-of-type {\n",
       "        vertical-align: middle;\n",
       "    }\n",
       "\n",
       "    .dataframe tbody tr th {\n",
       "        vertical-align: top;\n",
       "    }\n",
       "\n",
       "    .dataframe thead th {\n",
       "        text-align: right;\n",
       "    }\n",
       "</style>\n",
       "<table border=\"1\" class=\"dataframe\">\n",
       "  <thead>\n",
       "    <tr style=\"text-align: right;\">\n",
       "      <th></th>\n",
       "      <th>index</th>\n",
       "      <th>Unnamed: 0</th>\n",
       "      <th>Unnamed: 0.1</th>\n",
       "      <th>Index</th>\n",
       "      <th>DayTrial</th>\n",
       "      <th>Step</th>\n",
       "      <th>pacmanPos</th>\n",
       "      <th>ghost1Pos</th>\n",
       "      <th>ghost2Pos</th>\n",
       "      <th>ifscared1</th>\n",
       "      <th>...</th>\n",
       "      <th>next_pacman_dir_fill</th>\n",
       "      <th>global_Q_norm</th>\n",
       "      <th>local_Q_norm</th>\n",
       "      <th>evade_blinky_Q_norm</th>\n",
       "      <th>evade_clyde_Q_norm</th>\n",
       "      <th>approach_Q_norm</th>\n",
       "      <th>energizer_Q_norm</th>\n",
       "      <th>weight</th>\n",
       "      <th>contribution</th>\n",
       "      <th>is_correct</th>\n",
       "    </tr>\n",
       "  </thead>\n",
       "  <tbody>\n",
       "    <tr>\n",
       "      <th>0</th>\n",
       "      <td>0</td>\n",
       "      <td>0</td>\n",
       "      <td>0</td>\n",
       "      <td>0</td>\n",
       "      <td>1-1-omegaL-06-Aug-2021-1</td>\n",
       "      <td>1</td>\n",
       "      <td>(14, 27)</td>\n",
       "      <td>(14, 18)</td>\n",
       "      <td>(15, 19)</td>\n",
       "      <td>1</td>\n",
       "      <td>...</td>\n",
       "      <td>NaN</td>\n",
       "      <td>[1.0, 0.5681818181818182, -inf, -inf]</td>\n",
       "      <td>[1.0, 0.0, -inf, -inf]</td>\n",
       "      <td>[1.0, 1.0, -inf, -inf]</td>\n",
       "      <td>[1.0, 1.0, -inf, -inf]</td>\n",
       "      <td>[0.0, 0.0, -inf, -inf]</td>\n",
       "      <td>[0.0, 0.0, -inf, -inf]</td>\n",
       "      <td>[0.0, 1.645787633111234, 4.778009788622568e-06...</td>\n",
       "      <td>[0.0, 0.1191543256713139, 3.459258794757151e-0...</td>\n",
       "      <td>NaN</td>\n",
       "    </tr>\n",
       "    <tr>\n",
       "      <th>1</th>\n",
       "      <td>1</td>\n",
       "      <td>1</td>\n",
       "      <td>1</td>\n",
       "      <td>1</td>\n",
       "      <td>1-1-omegaL-06-Aug-2021-1</td>\n",
       "      <td>2</td>\n",
       "      <td>(14, 27)</td>\n",
       "      <td>(14, 18)</td>\n",
       "      <td>(15, 19)</td>\n",
       "      <td>1</td>\n",
       "      <td>...</td>\n",
       "      <td>left</td>\n",
       "      <td>[1.0, 0.5681818181818182, -inf, -inf]</td>\n",
       "      <td>[1.0, 0.0, -inf, -inf]</td>\n",
       "      <td>[1.0, 1.0, -inf, -inf]</td>\n",
       "      <td>[1.0, 1.0, -inf, -inf]</td>\n",
       "      <td>[0.0, 0.0, -inf, -inf]</td>\n",
       "      <td>[0.0, 0.0, -inf, -inf]</td>\n",
       "      <td>[0.0, 1.645787633111234, 4.778009788622568e-06...</td>\n",
       "      <td>[0.0, 0.1191543256713139, 3.459258794757151e-0...</td>\n",
       "      <td>1.0</td>\n",
       "    </tr>\n",
       "    <tr>\n",
       "      <th>2</th>\n",
       "      <td>2</td>\n",
       "      <td>2</td>\n",
       "      <td>2</td>\n",
       "      <td>2</td>\n",
       "      <td>1-1-omegaL-06-Aug-2021-1</td>\n",
       "      <td>3</td>\n",
       "      <td>(14, 27)</td>\n",
       "      <td>(14, 18)</td>\n",
       "      <td>(15, 19)</td>\n",
       "      <td>1</td>\n",
       "      <td>...</td>\n",
       "      <td>left</td>\n",
       "      <td>[1.0, 0.5681818181818182, -inf, -inf]</td>\n",
       "      <td>[1.0, 0.0, -inf, -inf]</td>\n",
       "      <td>[1.0, 1.0, -inf, -inf]</td>\n",
       "      <td>[1.0, 1.0, -inf, -inf]</td>\n",
       "      <td>[0.0, 0.0, -inf, -inf]</td>\n",
       "      <td>[0.0, 0.0, -inf, -inf]</td>\n",
       "      <td>[0.0, 1.645787633111234, 4.778009788622568e-06...</td>\n",
       "      <td>[0.0, 0.1191543256713139, 3.459258794757151e-0...</td>\n",
       "      <td>1.0</td>\n",
       "    </tr>\n",
       "    <tr>\n",
       "      <th>3</th>\n",
       "      <td>3</td>\n",
       "      <td>3</td>\n",
       "      <td>3</td>\n",
       "      <td>3</td>\n",
       "      <td>1-1-omegaL-06-Aug-2021-1</td>\n",
       "      <td>4</td>\n",
       "      <td>(14, 27)</td>\n",
       "      <td>(14, 18)</td>\n",
       "      <td>(15, 19)</td>\n",
       "      <td>1</td>\n",
       "      <td>...</td>\n",
       "      <td>left</td>\n",
       "      <td>[1.0, 0.5681818181818182, -inf, -inf]</td>\n",
       "      <td>[1.0, 0.0, -inf, -inf]</td>\n",
       "      <td>[1.0, 1.0, -inf, -inf]</td>\n",
       "      <td>[1.0, 1.0, -inf, -inf]</td>\n",
       "      <td>[0.0, 0.0, -inf, -inf]</td>\n",
       "      <td>[0.0, 0.0, -inf, -inf]</td>\n",
       "      <td>[0.0, 1.645787633111234, 4.778009788622568e-06...</td>\n",
       "      <td>[0.0, 0.1191543256713139, 3.459258794757151e-0...</td>\n",
       "      <td>1.0</td>\n",
       "    </tr>\n",
       "    <tr>\n",
       "      <th>4</th>\n",
       "      <td>4</td>\n",
       "      <td>4</td>\n",
       "      <td>4</td>\n",
       "      <td>4</td>\n",
       "      <td>1-1-omegaL-06-Aug-2021-1</td>\n",
       "      <td>5</td>\n",
       "      <td>(14, 27)</td>\n",
       "      <td>(14, 18)</td>\n",
       "      <td>(15, 19)</td>\n",
       "      <td>1</td>\n",
       "      <td>...</td>\n",
       "      <td>left</td>\n",
       "      <td>[1.0, 0.5681818181818182, -inf, -inf]</td>\n",
       "      <td>[1.0, 0.0, -inf, -inf]</td>\n",
       "      <td>[1.0, 1.0, -inf, -inf]</td>\n",
       "      <td>[1.0, 1.0, -inf, -inf]</td>\n",
       "      <td>[0.0, 0.0, -inf, -inf]</td>\n",
       "      <td>[0.0, 0.0, -inf, -inf]</td>\n",
       "      <td>[0.0, 1.645787633111234, 4.778009788622568e-06...</td>\n",
       "      <td>[0.0, 0.1191543256713139, 3.459258794757151e-0...</td>\n",
       "      <td>1.0</td>\n",
       "    </tr>\n",
       "  </tbody>\n",
       "</table>\n",
       "<p>5 rows × 95 columns</p>\n",
       "</div>"
      ],
      "text/plain": [
       "   index  Unnamed: 0  Unnamed: 0.1  Index                  DayTrial  Step  \\\n",
       "0      0           0             0      0  1-1-omegaL-06-Aug-2021-1     1   \n",
       "1      1           1             1      1  1-1-omegaL-06-Aug-2021-1     2   \n",
       "2      2           2             2      2  1-1-omegaL-06-Aug-2021-1     3   \n",
       "3      3           3             3      3  1-1-omegaL-06-Aug-2021-1     4   \n",
       "4      4           4             4      4  1-1-omegaL-06-Aug-2021-1     5   \n",
       "\n",
       "  pacmanPos ghost1Pos ghost2Pos  ifscared1  ...  next_pacman_dir_fill  \\\n",
       "0  (14, 27)  (14, 18)  (15, 19)          1  ...                   NaN   \n",
       "1  (14, 27)  (14, 18)  (15, 19)          1  ...                  left   \n",
       "2  (14, 27)  (14, 18)  (15, 19)          1  ...                  left   \n",
       "3  (14, 27)  (14, 18)  (15, 19)          1  ...                  left   \n",
       "4  (14, 27)  (14, 18)  (15, 19)          1  ...                  left   \n",
       "\n",
       "                           global_Q_norm            local_Q_norm  \\\n",
       "0  [1.0, 0.5681818181818182, -inf, -inf]  [1.0, 0.0, -inf, -inf]   \n",
       "1  [1.0, 0.5681818181818182, -inf, -inf]  [1.0, 0.0, -inf, -inf]   \n",
       "2  [1.0, 0.5681818181818182, -inf, -inf]  [1.0, 0.0, -inf, -inf]   \n",
       "3  [1.0, 0.5681818181818182, -inf, -inf]  [1.0, 0.0, -inf, -inf]   \n",
       "4  [1.0, 0.5681818181818182, -inf, -inf]  [1.0, 0.0, -inf, -inf]   \n",
       "\n",
       "      evade_blinky_Q_norm      evade_clyde_Q_norm         approach_Q_norm  \\\n",
       "0  [1.0, 1.0, -inf, -inf]  [1.0, 1.0, -inf, -inf]  [0.0, 0.0, -inf, -inf]   \n",
       "1  [1.0, 1.0, -inf, -inf]  [1.0, 1.0, -inf, -inf]  [0.0, 0.0, -inf, -inf]   \n",
       "2  [1.0, 1.0, -inf, -inf]  [1.0, 1.0, -inf, -inf]  [0.0, 0.0, -inf, -inf]   \n",
       "3  [1.0, 1.0, -inf, -inf]  [1.0, 1.0, -inf, -inf]  [0.0, 0.0, -inf, -inf]   \n",
       "4  [1.0, 1.0, -inf, -inf]  [1.0, 1.0, -inf, -inf]  [0.0, 0.0, -inf, -inf]   \n",
       "\n",
       "         energizer_Q_norm                                             weight  \\\n",
       "0  [0.0, 0.0, -inf, -inf]  [0.0, 1.645787633111234, 4.778009788622568e-06...   \n",
       "1  [0.0, 0.0, -inf, -inf]  [0.0, 1.645787633111234, 4.778009788622568e-06...   \n",
       "2  [0.0, 0.0, -inf, -inf]  [0.0, 1.645787633111234, 4.778009788622568e-06...   \n",
       "3  [0.0, 0.0, -inf, -inf]  [0.0, 1.645787633111234, 4.778009788622568e-06...   \n",
       "4  [0.0, 0.0, -inf, -inf]  [0.0, 1.645787633111234, 4.778009788622568e-06...   \n",
       "\n",
       "                                        contribution  is_correct  \n",
       "0  [0.0, 0.1191543256713139, 3.459258794757151e-0...         NaN  \n",
       "1  [0.0, 0.1191543256713139, 3.459258794757151e-0...         1.0  \n",
       "2  [0.0, 0.1191543256713139, 3.459258794757151e-0...         1.0  \n",
       "3  [0.0, 0.1191543256713139, 3.459258794757151e-0...         1.0  \n",
       "4  [0.0, 0.1191543256713139, 3.459258794757151e-0...         1.0  \n",
       "\n",
       "[5 rows x 95 columns]"
      ]
     },
     "execution_count": 46,
     "metadata": {},
     "output_type": "execute_result"
    }
   ],
   "source": [
    "from dataclasses import dataclass\n",
    "\n",
    "\n",
    "@dataclass\n",
    "class SampleData:\n",
    "    info: str\n",
    "    data_df: pd.DataFrame\n",
    "    data_series: pd.Series\n",
    "    data_list: list\n",
    "\n",
    "\n",
    "datas_convert = [[SampleData(*item) for item in data] for data in datas]\n",
    "\n",
    "\n",
    "datas_convert[0][0].data_df.head()"
   ]
  }
 ],
 "metadata": {
  "kernelspec": {
   "display_name": ".venv",
   "language": "python",
   "name": "python3"
  },
  "language_info": {
   "codemirror_mode": {
    "name": "ipython",
    "version": 3
   },
   "file_extension": ".py",
   "mimetype": "text/x-python",
   "name": "python",
   "nbconvert_exporter": "python",
   "pygments_lexer": "ipython3",
   "version": "3.9.20"
  }
 },
 "nbformat": 4,
 "nbformat_minor": 2
}
